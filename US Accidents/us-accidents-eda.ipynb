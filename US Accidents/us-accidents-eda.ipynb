{
 "cells": [
  {
   "cell_type": "markdown",
   "id": "4a4acf66",
   "metadata": {},
   "source": [
    "# EDA on US Accidents dataset (3 million records)"
   ]
  },
  {
   "cell_type": "markdown",
   "id": "95bdb7e4",
   "metadata": {},
   "source": [
    "Using opendatasets library to download dataset from [Kaggle](https://www.kaggle.com/sobhanmoosavi/us-accidents)"
   ]
  },
  {
   "cell_type": "code",
   "execution_count": 1,
   "id": "904c44b6",
   "metadata": {},
   "outputs": [
    {
     "name": "stderr",
     "output_type": "stream",
     "text": [
      "WARNING: You are using pip version 20.1; however, version 21.2.4 is available.\n",
      "You should consider upgrading via the 'H:\\Python\\Courses\\Jovian Data Analysis\\venv\\Scripts\\python.exe -m pip install --upgrade pip' command.\n"
     ]
    }
   ],
   "source": [
    "!pip install opendatasets --upgrade --quiet"
   ]
  },
  {
   "cell_type": "code",
   "execution_count": 3,
   "id": "1edeb13c",
   "metadata": {},
   "outputs": [
    {
     "name": "stdout",
     "output_type": "stream",
     "text": [
      "Please provide your Kaggle credentials to download this dataset. Learn more: http://bit.ly/kaggle-creds\n",
      "Your Kaggle username: anirudh12n96\n",
      "Your Kaggle Key: ········\n",
      "Downloading us-accidents.zip to .\\us-accidents\n"
     ]
    },
    {
     "name": "stderr",
     "output_type": "stream",
     "text": [
      "100%|████████████████████████████████████████████████████████████████████████████████| 290M/290M [05:51<00:00, 865kB/s]\n"
     ]
    },
    {
     "name": "stdout",
     "output_type": "stream",
     "text": [
      "\n"
     ]
    }
   ],
   "source": [
    "import opendatasets as od\n",
    "\n",
    "download_url = \"https://www.kaggle.com/sobhanmoosavi/us-accidents\"\n",
    "\n",
    "od.download(download_url)"
   ]
  },
  {
   "cell_type": "code",
   "execution_count": 4,
   "id": "d17e98b9",
   "metadata": {},
   "outputs": [],
   "source": [
    "import pandas as pd\n",
    "import seaborn as sns\n",
    "import zipfile"
   ]
  },
  {
   "cell_type": "code",
   "execution_count": 5,
   "id": "dc467e5f",
   "metadata": {},
   "outputs": [],
   "source": [
    "data = pd.read_csv(\"us-accidents/US_Accidents_Dec20_Updated.csv\")"
   ]
  },
  {
   "cell_type": "code",
   "execution_count": null,
   "id": "b704791d",
   "metadata": {},
   "outputs": [],
   "source": []
  }
 ],
 "metadata": {
  "kernelspec": {
   "display_name": "Python 3 (ipykernel)",
   "language": "python",
   "name": "python3"
  },
  "language_info": {
   "codemirror_mode": {
    "name": "ipython",
    "version": 3
   },
   "file_extension": ".py",
   "mimetype": "text/x-python",
   "name": "python",
   "nbconvert_exporter": "python",
   "pygments_lexer": "ipython3",
   "version": "3.7.4"
  }
 },
 "nbformat": 4,
 "nbformat_minor": 5
}
